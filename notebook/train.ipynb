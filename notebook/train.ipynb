{
 "cells": [
  {
   "cell_type": "code",
   "execution_count": 1,
   "metadata": {},
   "outputs": [],
   "source": [
    "import pandas as pd\n",
    "\n",
    "\n"
   ]
  },
  {
   "cell_type": "code",
   "execution_count": 2,
   "metadata": {},
   "outputs": [],
   "source": [
    "heart = pd.read_csv(\"data/Cardio.csv\")\n",
    "\n",
    "\n"
   ]
  },
  {
   "cell_type": "code",
   "execution_count": 3,
   "metadata": {},
   "outputs": [
    {
     "data": {
      "text/plain": [
       "Heart_Disease\n",
       "No     283883\n",
       "Yes     24971\n",
       "Name: count, dtype: int64"
      ]
     },
     "execution_count": 3,
     "metadata": {},
     "output_type": "execute_result"
    }
   ],
   "source": [
    "heart[\"Heart_Disease\"].value_counts()"
   ]
  },
  {
   "cell_type": "code",
   "execution_count": 4,
   "metadata": {},
   "outputs": [],
   "source": [
    "# Convering the column names into lower case and replacing the space with an underscore\n",
    "heart.columns = heart.columns.str.lower().str.replace(\" \", \"_\")\n",
    "\n",
    "#Changing the name of a big column\n",
    "\n",
    "heart.rename(columns = {'height_(cm)' : 'height', 'weight_(kg)' : 'weight', 'green_vegetables_consumption' : 'vegetables_consumption', 'friedpotato_consumption' : 'potato_consumption'}, inplace = True)\n"
   ]
  },
  {
   "cell_type": "code",
   "execution_count": 5,
   "metadata": {},
   "outputs": [],
   "source": [
    "heart['checkup'] = heart['checkup'].replace('Within the past 2 years', 'Past 2 years')\n",
    "heart['checkup'] = heart['checkup'].replace('Within the past year', 'Past 1 year')\n",
    "heart['checkup'] = heart['checkup'].replace('Within the past 5 years', 'Past 5 years')\n",
    "heart['checkup'] = heart['checkup'].replace('5 or more years ago', 'More than 5 years')\n",
    "\n",
    "\n",
    "heart['diabetes'] = heart['diabetes'].replace('No, pre-diabetes or borderline diabetes', 'No Pre Diabetes')\n",
    "heart['diabetes'] = heart['diabetes'].replace('Yes, but female told only during pregnancy', 'Only during pregnancy')\n",
    "\n",
    "heart['age_category'] = heart['age_category'].replace('18-24', 'Young')\n",
    "heart['age_category'] = heart['age_category'].replace('25-29', 'Adult')\n",
    "heart['age_category'] = heart['age_category'].replace('30-34', 'Adult')\n",
    "heart['age_category'] = heart['age_category'].replace('35-39', 'Adult')\n",
    "heart['age_category'] = heart['age_category'].replace('40-44', 'Mid-Aged')\n",
    "heart['age_category'] = heart['age_category'].replace('45-49', 'Mid-Aged')\n",
    "heart['age_category'] = heart['age_category'].replace('50-54', 'Mid-Aged')\n",
    "heart['age_category'] = heart['age_category'].replace('55-59', 'Senior-Adult')\n",
    "heart['age_category'] = heart['age_category'].replace('60-64', 'Senior-Adult')\n",
    "heart['age_category'] = heart['age_category'].replace('65-69', 'Elderly')\n",
    "heart['age_category'] = heart['age_category'].replace('70-74', 'Elderly')\n",
    "heart['age_category'] = heart['age_category'].replace('75-79', 'Elderly')\n",
    "heart['age_category'] = heart['age_category'].replace('80+', 'Elderly')"
   ]
  },
  {
   "cell_type": "code",
   "execution_count": 6,
   "metadata": {},
   "outputs": [],
   "source": [
    "col = ['alcohol_consumption', 'fruit_consumption', 'vegetables_consumption', 'potato_consumption']\n",
    "\n",
    "for i in col:\n",
    "    heart[i] = heart[i].astype(int)"
   ]
  },
  {
   "cell_type": "code",
   "execution_count": 7,
   "metadata": {},
   "outputs": [],
   "source": [
    "# Define BMI ranges and labels for each group\n",
    "bmi_bins = [12.02, 18.3, 26.85, 31.58, 37.8, 100]\n",
    "bmi_labels = ['Underweight', 'Normal weight', 'Overweight', 'Obese I', 'Obese II']\n",
    "heart['bmi_group'] = pd.cut(heart['bmi'], bins=bmi_bins, labels=bmi_labels, right=False)"
   ]
  },
  {
   "cell_type": "code",
   "execution_count": 8,
   "metadata": {},
   "outputs": [],
   "source": [
    "column_to_move = heart.pop('bmi_group')\n",
    "heart.insert(14, 'bmi_group', column_to_move)"
   ]
  },
  {
   "cell_type": "code",
   "execution_count": 9,
   "metadata": {},
   "outputs": [],
   "source": [
    "heart['bmi_group'] = heart['bmi_group'].astype('object')"
   ]
  },
  {
   "cell_type": "code",
   "execution_count": 10,
   "metadata": {},
   "outputs": [],
   "source": [
    "# Import the OneHotEncoder class from scikit-learn\n",
    "\n",
    "heart['heart_disease'] = heart['heart_disease'].map({'Yes':1, 'No':0})\n",
    "\n",
    "\n"
   ]
  },
  {
   "cell_type": "code",
   "execution_count": 11,
   "metadata": {},
   "outputs": [],
   "source": [
    "# Separate target\n",
    "y = heart[\"heart_disease\"]   # target column\n",
    "X = heart.drop(columns=[\"heart_disease\"])   # features only\n",
    "\n",
    "# Identify feature types\n",
    "num_features = X.select_dtypes(exclude=\"object\").columns\n",
    "cat_features = X.select_dtypes(include=\"object\").columns\n",
    "\n",
    "from sklearn.preprocessing import OneHotEncoder, StandardScaler\n",
    "from sklearn.compose import ColumnTransformer\n",
    "\n",
    "# Transformers\n",
    "numeric_transformer = StandardScaler()\n",
    "oh_transformer = OneHotEncoder(handle_unknown=\"ignore\", sparse_output=False)\n",
    "\n",
    "# ColumnTransformer (only applied on features, not target!)\n",
    "preprocessor = ColumnTransformer(\n",
    "    transformers=[\n",
    "        (\"num\", numeric_transformer, num_features),\n",
    "        (\"cat\", oh_transformer, cat_features),\n",
    "    ]\n",
    ")\n",
    "\n",
    "# Transform features\n",
    "X= preprocessor.fit_transform(X)\n"
   ]
  },
  {
   "cell_type": "code",
   "execution_count": 12,
   "metadata": {},
   "outputs": [],
   "source": [
    "from imblearn.over_sampling import SMOTE\n",
    "smote = SMOTE(random_state=42)\n",
    "X_balanced, y_balanced = smote.fit_resample(X, y)"
   ]
  },
  {
   "cell_type": "code",
   "execution_count": 13,
   "metadata": {},
   "outputs": [],
   "source": [
    "from sklearn.model_selection import train_test_split\n",
    "# Splitting the data into training and testing sets for diabetes balanced\n",
    "\n",
    "X_train, X_test, y_train, y_test = train_test_split(X_balanced, y_balanced, test_size=0.3, random_state=42)"
   ]
  },
  {
   "cell_type": "code",
   "execution_count": 14,
   "metadata": {},
   "outputs": [],
   "source": [
    "from sklearn.preprocessing import StandardScaler\n",
    "scaler_d = StandardScaler()\n",
    "X_train_scaled = scaler_d.fit_transform(X_train)\n",
    "X_test_scaled = scaler_d.transform(X_test)"
   ]
  },
  {
   "cell_type": "code",
   "execution_count": null,
   "metadata": {},
   "outputs": [],
   "source": []
  },
  {
   "cell_type": "code",
   "execution_count": 15,
   "metadata": {},
   "outputs": [],
   "source": [
    "# Create the models\n",
    "from sklearn.linear_model import LogisticRegression\n",
    "from sklearn.ensemble import RandomForestClassifier\n",
    "lr_d = LogisticRegression()\n",
    "rf_d = RandomForestClassifier()\n",
    "\n",
    "# Fit the models\n",
    "\n",
    "lr_d.fit(X_train_scaled, y_train)\n",
    "rf_d.fit(X_train_scaled, y_train)\n",
    "\n",
    "# Make predictions\n",
    "\n",
    "lr_pred_d = lr_d.predict(X_test_scaled)\n",
    "rf_pred_d = rf_d.predict(X_test_scaled)"
   ]
  },
  {
   "cell_type": "code",
   "execution_count": 16,
   "metadata": {},
   "outputs": [
    {
     "name": "stdout",
     "output_type": "stream",
     "text": [
      "======================================== Logistic regression report: ============================================= \n",
      "\n",
      "              precision    recall  f1-score   support\n",
      "\n",
      "           0       0.79      0.73      0.76     85071\n",
      "           1       0.75      0.81      0.78     85259\n",
      "\n",
      "    accuracy                           0.77    170330\n",
      "   macro avg       0.77      0.77      0.77    170330\n",
      "weighted avg       0.77      0.77      0.77    170330\n",
      "\n",
      "======================================== Random forest report: ============================================= \n",
      "\n",
      "              precision    recall  f1-score   support\n",
      "\n",
      "           0       0.95      0.96      0.95     85071\n",
      "           1       0.96      0.95      0.95     85259\n",
      "\n",
      "    accuracy                           0.95    170330\n",
      "   macro avg       0.95      0.95      0.95    170330\n",
      "weighted avg       0.95      0.95      0.95    170330\n",
      "\n"
     ]
    }
   ],
   "source": [
    "from sklearn.metrics import classification_report, roc_auc_score\n",
    "lr_d_report = classification_report(y_test, lr_pred_d)\n",
    "\n",
    "rf_d_report = classification_report(y_test, rf_pred_d)\n",
    "\n",
    "\n",
    "print(\"=\"*40, \"Logistic regression report:\", \"=\"*45, '\\n')\n",
    "print(lr_d_report)\n",
    "\n",
    "\n",
    "\n",
    "print(\"=\"*40, \"Random forest report:\", \"=\"*45, '\\n')\n",
    "print(rf_d_report)\n"
   ]
  },
  {
   "cell_type": "code",
   "execution_count": null,
   "metadata": {},
   "outputs": [],
   "source": []
  },
  {
   "cell_type": "code",
   "execution_count": null,
   "metadata": {},
   "outputs": [],
   "source": []
  }
 ],
 "metadata": {
  "kernelspec": {
   "display_name": "Python 3.12.2 (conda)",
   "language": "python",
   "name": "python3"
  },
  "language_info": {
   "codemirror_mode": {
    "name": "ipython",
    "version": 3
   },
   "file_extension": ".py",
   "mimetype": "text/x-python",
   "name": "python",
   "nbconvert_exporter": "python",
   "pygments_lexer": "ipython3",
   "version": "3.12.2"
  },
  "orig_nbformat": 4,
  "vscode": {
   "interpreter": {
    "hash": "e30504b34fae75380c332de349128e414ab2e8ab34b717343cdb725a6bf5d2f7"
   }
  }
 },
 "nbformat": 4,
 "nbformat_minor": 2
}
